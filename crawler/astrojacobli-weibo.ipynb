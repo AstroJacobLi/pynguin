{
 "cells": [
  {
   "cell_type": "code",
   "execution_count": 1,
   "metadata": {},
   "outputs": [],
   "source": [
    "import numpy as np\n",
    "import matplotlib.pyplot as plt\n",
    "import pandas as pd"
   ]
  },
  {
   "cell_type": "code",
   "execution_count": 47,
   "metadata": {},
   "outputs": [],
   "source": [
    "# user-id = 6278507012\n",
    "df = pd.read_csv('./weibo-crawler/weibo/蜿蜒曲折的盘山公路/6278507012.csv')"
   ]
  },
  {
   "cell_type": "code",
   "execution_count": null,
   "metadata": {},
   "outputs": [],
   "source": []
  },
  {
   "cell_type": "code",
   "execution_count": null,
   "metadata": {},
   "outputs": [],
   "source": []
  },
  {
   "cell_type": "code",
   "execution_count": 28,
   "metadata": {},
   "outputs": [],
   "source": [
    "df['日期'] = pd.to_datetime(df['日期'])"
   ]
  },
  {
   "cell_type": "code",
   "execution_count": 29,
   "metadata": {},
   "outputs": [
    {
     "data": {
      "text/plain": [
       "<matplotlib.axes._subplots.AxesSubplot at 0x7fd7b1b3c4a8>"
      ]
     },
     "execution_count": 29,
     "metadata": {},
     "output_type": "execute_result"
    },
    {
     "name": "stderr",
     "output_type": "stream",
     "text": [
      "/anaconda3/lib/python3.7/site-packages/matplotlib/backends/backend_agg.py:211: RuntimeWarning: Glyph 26085 missing from current font.\n",
      "  font.set_text(s, 0.0, flags=flags)\n",
      "/anaconda3/lib/python3.7/site-packages/matplotlib/backends/backend_agg.py:211: RuntimeWarning: Glyph 26399 missing from current font.\n",
      "  font.set_text(s, 0.0, flags=flags)\n",
      "/anaconda3/lib/python3.7/site-packages/matplotlib/backends/backend_agg.py:180: RuntimeWarning: Glyph 26085 missing from current font.\n",
      "  font.set_text(s, 0, flags=flags)\n",
      "/anaconda3/lib/python3.7/site-packages/matplotlib/backends/backend_agg.py:180: RuntimeWarning: Glyph 26399 missing from current font.\n",
      "  font.set_text(s, 0, flags=flags)\n"
     ]
    },
    {
     "data": {
      "image/png": "[encoded data removed]",
      "text/plain": [
       "<Figure size 432x288 with 1 Axes>"
      ]
     },
     "metadata": {
      "needs_background": "light"
     },
     "output_type": "display_data"
    }
   ],
   "source": [
    "res = df.groupby(by=[df[\"日期\"].dt.year, df[\"日期\"].dt.month]).count()['日期']\n",
    "#sco = df.groupby(by=[df[\"日期\"].dt.year, df[\"日期\"].dt.month])['score'].mean()\n",
    "res.plot(kind=\"bar\")"
   ]
  },
  {
   "cell_type": "code",
   "execution_count": 30,
   "metadata": {},
   "outputs": [
    {
     "data": {
      "text/plain": [
       "array([nan, nan, nan, nan, nan, nan, nan, nan, nan, nan, nan, nan, nan,\n",
       "       nan, nan, nan, nan, nan, nan, nan, nan, nan, nan, nan, nan, nan,\n",
       "       nan, nan, nan, nan, nan, nan, nan, nan, nan, nan, nan, nan, nan,\n",
       "       nan, nan, '北京·和平里七区社区', nan, nan, nan, nan, nan, nan, nan, nan,\n",
       "       nan, '韶关·中国丹霞山世界地质公园', nan, nan, nan, nan, nan, nan, nan, nan, nan,\n",
       "       nan, nan, nan, nan, nan, nan, nan, nan, nan, nan, nan, nan, nan,\n",
       "       nan, nan, nan, nan, nan, nan, nan, nan, nan, nan, nan, nan, nan,\n",
       "       nan, nan, nan, nan, nan, nan, nan, nan, nan, nan, nan, nan, nan,\n",
       "       nan, nan, nan, nan, nan, nan, nan, nan, nan, nan, nan, nan, nan,\n",
       "       nan, nan, nan, nan, nan, nan, nan, nan, nan, nan, nan, nan, nan,\n",
       "       nan, nan, nan, nan, nan, nan, nan, nan, nan, nan, nan, nan, nan,\n",
       "       nan, nan, '舟山·嵊泗枸杞岛青年旅舍', '上海', nan, nan, nan], dtype=object)"
      ]
     },
     "execution_count": 30,
     "metadata": {},
     "output_type": "execute_result"
    }
   ],
   "source": [
    "np.array(df['位置'])"
   ]
  },
  {
   "cell_type": "code",
   "execution_count": 42,
   "metadata": {},
   "outputs": [],
   "source": [
    "# user-id = 1846315375\n",
    "df = pd.read_csv('./weibo-crawler/weibo/李嘉轩_astro/1846315375.csv')"
   ]
  },
  {
   "cell_type": "code",
   "execution_count": 44,
   "metadata": {},
   "outputs": [
    {
     "data": {
      "text/plain": [
       "311"
      ]
     },
     "execution_count": 44,
     "metadata": {},
     "output_type": "execute_result"
    }
   ],
   "source": [
    "len(df)"
   ]
  },
  {
   "cell_type": "code",
   "execution_count": 43,
   "metadata": {},
   "outputs": [
    {
     "data": {
      "text/plain": [
       "array([nan, nan, nan, nan, nan, nan, nan, nan, '蜿蜒曲折的盘山公路', nan, nan, nan,\n",
       "       nan, nan, nan, '蜿蜒曲折的盘山公路', nan, nan, '网易云音乐', nan, nan, nan, nan,\n",
       "       nan, nan, nan, nan, nan, nan, nan, nan, nan, nan, nan, nan, nan,\n",
       "       nan, nan, nan, nan, nan, nan, nan, nan, nan, nan, nan, '网易云音乐',\n",
       "       nan, nan, nan, nan, nan, nan, nan, nan, nan, nan, '知乎', nan, nan,\n",
       "       nan, nan, '网易云音乐', nan, nan, nan, nan, nan, nan, '还是陆任钾', nan, nan,\n",
       "       nan, nan, nan, nan, nan, nan, nan, nan, nan, nan, nan, nan, nan,\n",
       "       nan, nan, nan, nan, nan, nan, nan, nan, nan, nan, nan, nan, nan,\n",
       "       nan, nan, nan, nan, nan, nan, nan, nan, nan, nan, nan, nan, nan,\n",
       "       nan, nan, nan, nan, nan, nan, nan, nan, nan, nan, nan, nan, nan,\n",
       "       nan, nan, nan, nan, nan, nan, nan, nan, nan, nan, nan, nan, nan,\n",
       "       nan, nan, nan, nan, nan, nan, nan, nan, nan, '黑云角闪斜长片麻岩', nan,\n",
       "       '网易云音乐', nan, nan, nan, nan, nan, nan, nan, 'Pirateknife', nan,\n",
       "       nan, nan, nan, nan, nan, nan, nan, nan, '网易云音乐', nan,\n",
       "       'Popolarnight', nan, nan, nan, nan, nan, nan, nan, nan, nan, nan,\n",
       "       nan, '北京大学', nan, nan, nan, '丁钊翰', nan, '网易云音乐', '北大青天会', nan, nan,\n",
       "       nan, nan, '雷雨心AdoKenTorothy', nan, nan, '网易云音乐', '网易云音乐', nan, nan,\n",
       "       '北京大学', nan, nan, '虾米音乐', 'QQ音乐', '网易云音乐', nan, '网易云音乐', '网易云音乐',\n",
       "       '网易云音乐', 'RAiNBOW计划', nan, nan, nan, nan, '曹俊IHEP', 'QQ音乐',\n",
       "       '网易云音乐', 'QQ音乐', 'QQ音乐', '网易云音乐', nan, '网易云音乐', nan, nan, nan, nan,\n",
       "       nan, '北京大学', '海豚汀布莱克', nan, nan, nan, nan, nan, 'QQ音乐', nan, nan,\n",
       "       nan, nan, nan, nan, nan, nan, nan, nan, nan, nan, nan, nan, nan,\n",
       "       nan, nan, nan, nan, nan, nan, '李日斤_BJP,Rdairye', nan, nan, nan,\n",
       "       nan, nan, nan, nan, nan, nan, '麦野场畔牧歌', nan,\n",
       "       '北京天文馆朱进,北京天文馆詹想,Rdairye,麦野场畔牧歌,M45昴星团,HFer-RB', nan,\n",
       "       '北京天文馆朱进,北京天文馆詹想,老张Nelson,Rdairye,天尼玛居然晴了', nan, nan,\n",
       "       '麦野场畔牧歌,HFer-RB', nan, nan, nan, nan, nan, nan, nan, nan, nan, nan,\n",
       "       nan, nan, nan, nan, nan, '拇姬', nan, nan, nan, '北京天文馆詹想,西宁一中陈箐泽',\n",
       "       nan, 'M45昴星团', '微盘', nan, nan, nan, 'WIS护肤', nan, nan, nan, nan,\n",
       "       'Rdairye,肖戴凝,西宁一中陈箐泽', '天文爱好者杂志社', nan, nan, nan], dtype=object)"
      ]
     },
     "execution_count": 43,
     "metadata": {},
     "output_type": "execute_result"
    }
   ],
   "source": [
    "np.array(df['@用户'])"
   ]
  },
  {
   "cell_type": "code",
   "execution_count": null,
   "metadata": {},
   "outputs": [],
   "source": []
  }
 ],
 "metadata": {
  "kernelspec": {
   "display_name": "Python 3",
   "language": "python",
   "name": "python3"
  },
  "language_info": {
   "codemirror_mode": {
    "name": "ipython",
    "version": 3
   },
   "file_extension": ".py",
   "mimetype": "text/x-python",
   "name": "python",
   "nbconvert_exporter": "python",
   "pygments_lexer": "ipython3",
   "version": "3.7.0"
  }
 },
 "nbformat": 4,
 "nbformat_minor": 2
}
