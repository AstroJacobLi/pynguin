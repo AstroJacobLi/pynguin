{
 "cells": [
  {
   "cell_type": "markdown",
   "metadata": {},
   "source": [
    "# 再说几句Python"
   ]
  },
  {
   "cell_type": "code",
   "execution_count": null,
   "metadata": {},
   "outputs": [],
   "source": [
    "import numpy as np\n",
    "import matplotlib.pyplot as plt\n",
    "import pandas as pd"
   ]
  },
  {
   "cell_type": "markdown",
   "metadata": {},
   "source": [
    "## 前情提要\n",
    "上两集中，我们学习了python的基本语法（数据类型、循环、字符串的处理、循环语句、判断语句、列表、怎么建立函数）和numpy的基本功能（array的概念、加减乘除、array的shape、如何得到array的元素、建立mask array等等）。请先回顾之前的内容。\n",
    "\n",
    "这次补充几个关于python语言的高级用法，为之后讲爬虫和pandas做一点铺垫。"
   ]
  },
  {
   "cell_type": "markdown",
   "metadata": {},
   "source": [
    "### `map` and `lambda`"
   ]
  },
  {
   "cell_type": "code",
   "execution_count": null,
   "metadata": {},
   "outputs": [],
   "source": [
    "def func(x):\n",
    "    return x + 5"
   ]
  },
  {
   "cell_type": "code",
   "execution_count": null,
   "metadata": {},
   "outputs": [],
   "source": [
    "func(4)"
   ]
  },
  {
   "cell_type": "code",
   "execution_count": null,
   "metadata": {},
   "outputs": [],
   "source": [
    "map(func, [4, 5, 6, 7])"
   ]
  },
  {
   "cell_type": "code",
   "execution_count": null,
   "metadata": {},
   "outputs": [],
   "source": [
    "list(map(func, [4, 5, 6, 7]))"
   ]
  },
  {
   "cell_type": "code",
   "execution_count": null,
   "metadata": {},
   "outputs": [],
   "source": [
    "list(map(lambda x: x + 5, [4]))"
   ]
  },
  {
   "cell_type": "code",
   "execution_count": null,
   "metadata": {},
   "outputs": [],
   "source": [
    "list(map(lambda x: x + 5, [4, 5, 6, 7]))"
   ]
  },
  {
   "cell_type": "code",
   "execution_count": null,
   "metadata": {},
   "outputs": [],
   "source": [
    "provinceName = [\"湖北\", \"浙江\", \"江西\", \"安徽\"]"
   ]
  },
  {
   "cell_type": "code",
   "execution_count": null,
   "metadata": {},
   "outputs": [],
   "source": [
    "provinceFullName = list(map(lambda x: x + '省', provinceName))\n",
    "provinceFullName"
   ]
  },
  {
   "cell_type": "code",
   "execution_count": null,
   "metadata": {},
   "outputs": [],
   "source": [
    "provinceName = [\"湖北\", \"浙江\", \"江西省\", \"安徽\"]"
   ]
  },
  {
   "cell_type": "code",
   "execution_count": null,
   "metadata": {},
   "outputs": [],
   "source": [
    "provinceFullName = list(map(lambda x: x + '省', provinceName))\n",
    "provinceFullName"
   ]
  },
  {
   "cell_type": "code",
   "execution_count": null,
   "metadata": {},
   "outputs": [],
   "source": [
    "provinceFullName = list(map(lambda x: x.rstrip('省') + '省', provinceName))\n",
    "provinceFullName"
   ]
  },
  {
   "cell_type": "markdown",
   "metadata": {},
   "source": [
    "### `enumerate` 爱你的 `zip`"
   ]
  },
  {
   "cell_type": "code",
   "execution_count": null,
   "metadata": {},
   "outputs": [],
   "source": [
    "infection = [27100, 1075, 740, 779]"
   ]
  },
  {
   "cell_type": "code",
   "execution_count": null,
   "metadata": {},
   "outputs": [],
   "source": [
    "for prov in provinceFullName:\n",
    "    if prov == '浙江省':\n",
    "        # 浙江有多少人感染？？？"
   ]
  },
  {
   "cell_type": "code",
   "execution_count": null,
   "metadata": {},
   "outputs": [],
   "source": [
    "for i, prov in enumerate(provinceFullName):\n",
    "    if prov == '浙江省':\n",
    "        # 浙江有多少人感染？？？\n",
    "        print('Infections = {}'.format(infection[i]))"
   ]
  },
  {
   "cell_type": "markdown",
   "metadata": {},
   "source": [
    "用两个数组 provinceFullName 和 infection 来表达疫情，没有很好的结构性，不好一一对应。"
   ]
  },
  {
   "cell_type": "code",
   "execution_count": null,
   "metadata": {},
   "outputs": [],
   "source": [
    "list(zip(provinceFullName, infection))"
   ]
  },
  {
   "cell_type": "markdown",
   "metadata": {},
   "source": [
    "练习1: print \"{city} is in {state}\" for each combination."
   ]
  },
  {
   "cell_type": "code",
   "execution_count": null,
   "metadata": {},
   "outputs": [],
   "source": [
    "cities = [\"Phoenix\", \"Austin\", \"San Diego\", \"New York\"]\n",
    "states = [\"Arizona\", \"Texas\", \"California\", \"New York\"]\n",
    "\n",
    "couple = list(zip(cities, states))\n",
    "\n",
    "['{0} is in {1}'.format(item[0], item[1]) for item in couple]"
   ]
  },
  {
   "cell_type": "markdown",
   "metadata": {},
   "source": [
    "练习2: 湖北每日新增多少确诊病例？"
   ]
  },
  {
   "cell_type": "code",
   "execution_count": null,
   "metadata": {},
   "outputs": [],
   "source": [
    "hubei_infection = [270,   444,   444,   729,   761,  1423,  1423,  3554,  4586, \n",
    "                   5806,  5806,  9074,  9074, 13522, 16678, 19665, 22112, 24953, \n",
    "                   27100, 27100] # from Jan 21"
   ]
  },
  {
   "cell_type": "code",
   "execution_count": null,
   "metadata": {},
   "outputs": [],
   "source": [
    "# daily increase\n",
    "[num - hubei_infection[i-1] for i, num in enumerate(hubei_infection)]"
   ]
  },
  {
   "cell_type": "markdown",
   "metadata": {},
   "source": [
    "### 词典 `dict` 爱你的 `set`"
   ]
  },
  {
   "cell_type": "code",
   "execution_count": null,
   "metadata": {},
   "outputs": [],
   "source": [
    "NCP_infection = dict(list(zip(provinceFullName, infection)))\n",
    "NCP_infection"
   ]
  },
  {
   "cell_type": "code",
   "execution_count": null,
   "metadata": {},
   "outputs": [],
   "source": [
    "NCP_infection['湖北省']"
   ]
  },
  {
   "cell_type": "code",
   "execution_count": null,
   "metadata": {},
   "outputs": [],
   "source": [
    "NCP_infection['安徽省']"
   ]
  },
  {
   "cell_type": "code",
   "execution_count": null,
   "metadata": {},
   "outputs": [],
   "source": [
    "NCP_infection['四川省']"
   ]
  },
  {
   "cell_type": "code",
   "execution_count": null,
   "metadata": {},
   "outputs": [],
   "source": [
    "NCP_infection.keys()"
   ]
  },
  {
   "cell_type": "code",
   "execution_count": null,
   "metadata": {},
   "outputs": [],
   "source": [
    "NCP_infection['北京市'] = 326\n",
    "NCP_infection"
   ]
  },
  {
   "cell_type": "code",
   "execution_count": null,
   "metadata": {},
   "outputs": [],
   "source": [
    "NCP_infection.keys()"
   ]
  },
  {
   "cell_type": "code",
   "execution_count": null,
   "metadata": {},
   "outputs": [],
   "source": []
  },
  {
   "cell_type": "code",
   "execution_count": null,
   "metadata": {},
   "outputs": [],
   "source": [
    "province_name = ['湖北省', '浙江省', '江西省', '安徽省', '北京市', '北京市', '安徽省']"
   ]
  },
  {
   "cell_type": "code",
   "execution_count": null,
   "metadata": {},
   "outputs": [],
   "source": [
    "set(province_name)"
   ]
  },
  {
   "cell_type": "code",
   "execution_count": null,
   "metadata": {},
   "outputs": [],
   "source": [
    "list(set(province_name)) # alphabetical"
   ]
  },
  {
   "cell_type": "markdown",
   "metadata": {},
   "source": [
    "### `datetime` 每时每刻"
   ]
  },
  {
   "cell_type": "code",
   "execution_count": null,
   "metadata": {},
   "outputs": [],
   "source": [
    "import datetime\n",
    "now = datetime.datetime.now()\n",
    "now"
   ]
  },
  {
   "cell_type": "code",
   "execution_count": null,
   "metadata": {},
   "outputs": [],
   "source": [
    "now = now.replace(second=0, microsecond=0)\n",
    "now"
   ]
  },
  {
   "cell_type": "code",
   "execution_count": null,
   "metadata": {},
   "outputs": [],
   "source": [
    "pd.to_datetime(now)"
   ]
  },
  {
   "cell_type": "markdown",
   "metadata": {},
   "source": [
    "怎么把 '2019年10月11日 23:52' 转化机器能看懂的东西？"
   ]
  },
  {
   "cell_type": "code",
   "execution_count": null,
   "metadata": {},
   "outputs": [],
   "source": [
    "crush_time_str = '2019年10月11日 23:52'\n",
    "crush_time = datetime.datetime.strptime(crush_time_str, '%Y年%m月%d日 %H:%M')\n",
    "crush_time"
   ]
  },
  {
   "cell_type": "code",
   "execution_count": null,
   "metadata": {},
   "outputs": [],
   "source": [
    "pd.to_datetime(crush_time + datetime.timedelta(days=1))"
   ]
  },
  {
   "cell_type": "code",
   "execution_count": null,
   "metadata": {},
   "outputs": [],
   "source": [
    "pd.to_datetime(crush_time + datetime.timedelta(days=365))"
   ]
  },
  {
   "cell_type": "markdown",
   "metadata": {},
   "source": [
    "### 给函数写好注释，做一个负责任的女人"
   ]
  },
  {
   "cell_type": "code",
   "execution_count": null,
   "metadata": {},
   "outputs": [],
   "source": [
    "def parse_time(time_str, fmt='%Y年%m月%d日 %H:%M', verbose=True): # why not using `format`?\n",
    "    '''\n",
    "    Parse the time given as a string.\n",
    "    \n",
    "    Parameters:\n",
    "        time_str (str): the input string, following the given format.\n",
    "        fmt (str): the format of input string. Default is '%Y年%m月%d日 %H:%M'.\n",
    "        verbose (bool): whether print out the parsed time.\n",
    "        \n",
    "    Return:\n",
    "        time (pd.Timestamp): parsed time.\n",
    "    '''\n",
    "    import pandas as pd\n",
    "    import datetime\n",
    "    \n",
    "    time = pd.to_datetime(datetime.datetime.strptime(time_str, fmt))\n",
    "    \n",
    "    if verbose:\n",
    "        print(time)\n",
    "        \n",
    "    return time"
   ]
  },
  {
   "cell_type": "code",
   "execution_count": null,
   "metadata": {},
   "outputs": [],
   "source": [
    "crush_time = parse_time(crush_time_str)"
   ]
  },
  {
   "cell_type": "code",
   "execution_count": null,
   "metadata": {},
   "outputs": [],
   "source": [
    "parse_time?"
   ]
  },
  {
   "cell_type": "code",
   "execution_count": null,
   "metadata": {},
   "outputs": [],
   "source": []
  },
  {
   "cell_type": "markdown",
   "metadata": {},
   "source": [
    "### 面向对象编程\n",
    "对象：http://astrojacobli.github.io\n",
    "🐘🐘\n",
    "\n",
    "以前写程序的办法都是流程式编程，现在要搞对象（object）。\n",
    "\n",
    "对象：attributes + methods"
   ]
  },
  {
   "cell_type": "code",
   "execution_count": null,
   "metadata": {},
   "outputs": [],
   "source": [
    "class People:\n",
    "    def __init__(self, name, gender):\n",
    "        self.name = name\n",
    "        self.gender = gender\n",
    "        self.hunger = 0\n",
    "        self.thirsty = 0\n",
    "        self.health = 100\n",
    "        self.love = 10\n",
    "        \n",
    "    def eat(self, amount=1):\n",
    "        self.hunger -= amount\n",
    "    \n",
    "    def drink(self, amount=1):\n",
    "        self.thirsty -= amount\n",
    "    \n",
    "    def exercise(self, time=1):\n",
    "        if time > 5:\n",
    "            self.health -= 5 * time\n",
    "        else:\n",
    "            self.health += 10 * time\n",
    "        \n",
    "    def meowmeow(self):\n",
    "        self.love += 1\n",
    "        \n",
    "    def video_call(self):\n",
    "        self.love += 10\n",
    "    \n",
    "    def quarrel(self):\n",
    "        self.love -= 5\n",
    "        self.health -= 10\n",
    "        self.thirsty += 5\n",
    "    \n",
    "    def check_health(self):\n",
    "        if self.thirsty > 30 or self.hunger > 30:\n",
    "            self.health -= 30\n",
    "        if self.health < 50:\n",
    "            return 'unhealthy'\n",
    "        else:\n",
    "            return 'healthy'\n",
    "    \n",
    "    def write_diary(self, stuff=None):\n",
    "        ## Basic status\n",
    "        healthy = self.check_health()\n",
    "        diary = \"I'm {}\".format(healthy) + ' today'\n",
    "        diary = \"\\n\".join([diary, stuff])\n",
    "        self.diary = diary"
   ]
  },
  {
   "cell_type": "code",
   "execution_count": null,
   "metadata": {},
   "outputs": [],
   "source": [
    "babyhuan = People(name='Huanhuan', gender='Female')"
   ]
  },
  {
   "cell_type": "code",
   "execution_count": null,
   "metadata": {},
   "outputs": [],
   "source": [
    "babyhuan.eat(10)\n",
    "babyhuan.drink(30)\n",
    "babyhuan.check_health()"
   ]
  },
  {
   "cell_type": "code",
   "execution_count": null,
   "metadata": {},
   "outputs": [],
   "source": [
    "babyhuan.write_diary(\"I read some papers today. \")"
   ]
  },
  {
   "cell_type": "code",
   "execution_count": null,
   "metadata": {},
   "outputs": [],
   "source": [
    "print(babyhuan.diary)"
   ]
  },
  {
   "cell_type": "code",
   "execution_count": null,
   "metadata": {},
   "outputs": [],
   "source": [
    "babyhuan.__dict__"
   ]
  },
  {
   "cell_type": "markdown",
   "metadata": {},
   "source": [
    "其实python里一切东西都是对象。比如字符串有method叫做split."
   ]
  },
  {
   "cell_type": "code",
   "execution_count": null,
   "metadata": {},
   "outputs": [],
   "source": []
  },
  {
   "cell_type": "markdown",
   "metadata": {},
   "source": [
    "**例子: [自由市场](https://python.quantecon.org/python_oop.html#Example:-A-Market)**\n",
    "\n",
    "A linear demand curve $ Q = a_d - b_d p $\n",
    "\n",
    "A linear supply curve $ Q = a_z + b_z (p - \\text{tax}) $"
   ]
  },
  {
   "cell_type": "markdown",
   "metadata": {},
   "source": []
  },
  {
   "cell_type": "code",
   "execution_count": null,
   "metadata": {},
   "outputs": [],
   "source": [
    "from scipy.integrate import quad\n",
    "\n",
    "class Market:\n",
    "\n",
    "    def __init__(self, ad, bd, az, bz, tax):\n",
    "        \"\"\"\n",
    "        Set up market parameters.  All parameters are scalars.  See\n",
    "        https://lectures.quantecon.org/py/python_oop.html for interpretation.\n",
    "\n",
    "        \"\"\"\n",
    "        self.ad, self.bd, self.az, self.bz, self.tax = ad, bd, az, bz, tax\n",
    "        if ad < az:\n",
    "            raise ValueError('Insufficient demand.')\n",
    "\n",
    "    def price(self):\n",
    "        \"Return equilibrium price\"\n",
    "        return  (self.ad - self.az + self.bz * self.tax) / (self.bd + self.bz)\n",
    "\n",
    "    def quantity(self):\n",
    "        \"Compute equilibrium quantity\"\n",
    "        return  self.ad - self.bd * self.price()\n",
    "\n",
    "    def consumer_surp(self):\n",
    "        \"Compute consumer surplus\"\n",
    "        # == Compute area under inverse demand function == #\n",
    "        integrand = lambda x: (self.ad / self.bd) - (1 / self.bd) * x\n",
    "        area, error = quad(integrand, 0, self.quantity())\n",
    "        return area - self.price() * self.quantity()\n",
    "\n",
    "    def producer_surp(self):\n",
    "        \"Compute producer surplus\"\n",
    "        #  == Compute area above inverse supply curve, excluding tax == #\n",
    "        integrand = lambda x: -(self.az / self.bz) + (1 / self.bz) * x\n",
    "        area, error = quad(integrand, 0, self.quantity())\n",
    "        return (self.price() - self.tax) * self.quantity() - area\n",
    "\n",
    "    def taxrev(self):\n",
    "        \"Compute tax revenue\"\n",
    "        return self.tax * self.quantity()\n",
    "\n",
    "    def inverse_demand(self, x):\n",
    "        \"Compute inverse demand\"\n",
    "        return self.ad / self.bd - (1 / self.bd) * x\n",
    "\n",
    "    def inverse_supply(self, x):\n",
    "        \"Compute inverse supply curve\"\n",
    "        return -(self.az / self.bz) + (1 / self.bz) * x + self.tax\n",
    "\n",
    "    def inverse_supply_no_tax(self, x):\n",
    "        \"Compute inverse supply curve without tax\"\n",
    "        return -(self.az / self.bz) + (1 / self.bz) * x"
   ]
  },
  {
   "cell_type": "code",
   "execution_count": null,
   "metadata": {},
   "outputs": [],
   "source": [
    "baseline_params = 15, .5, -2, .5, 3\n",
    "m = Market(*baseline_params)\n",
    "print(\"equilibrium price = \", m.price())"
   ]
  },
  {
   "cell_type": "code",
   "execution_count": null,
   "metadata": {},
   "outputs": [],
   "source": [
    "print(\"consumer surplus = \", m.consumer_surp())"
   ]
  },
  {
   "cell_type": "code",
   "execution_count": null,
   "metadata": {},
   "outputs": [],
   "source": [
    "# Baseline ad, bd, az, bz, tax\n",
    "baseline_params = 15, .5, -2, .5, 3\n",
    "m = Market(*baseline_params)\n",
    "\n",
    "q_max = m.quantity() * 2\n",
    "q_grid = np.linspace(0.0, q_max, 100)\n",
    "pd = m.inverse_demand(q_grid)\n",
    "ps = m.inverse_supply(q_grid)\n",
    "psno = m.inverse_supply_no_tax(q_grid)\n",
    "\n",
    "fig, ax = plt.subplots()\n",
    "ax.plot(q_grid, pd, lw=2, alpha=0.6, label='demand')\n",
    "ax.plot(q_grid, ps, lw=2, alpha=0.6, label='supply')\n",
    "ax.plot(q_grid, psno, '--k', lw=2, alpha=0.6, label='supply without tax')\n",
    "ax.set_xlabel('quantity', fontsize=14)\n",
    "ax.set_xlim(0, q_max)\n",
    "ax.set_ylabel('price', fontsize=14)\n",
    "ax.legend(loc='lower right', frameon=False, fontsize=14)\n",
    "plt.show()"
   ]
  },
  {
   "cell_type": "code",
   "execution_count": null,
   "metadata": {},
   "outputs": [],
   "source": []
  }
 ],
 "metadata": {
  "kernelspec": {
   "display_name": "Python 3",
   "language": "python",
   "name": "python3"
  },
  "language_info": {
   "codemirror_mode": {
    "name": "ipython",
    "version": 3
   },
   "file_extension": ".py",
   "mimetype": "text/x-python",
   "name": "python",
   "nbconvert_exporter": "python",
   "pygments_lexer": "ipython3",
   "version": "3.7.0"
  }
 },
 "nbformat": 4,
 "nbformat_minor": 2
}
